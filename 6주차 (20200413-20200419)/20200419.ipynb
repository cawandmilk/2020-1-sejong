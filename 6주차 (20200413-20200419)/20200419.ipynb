{
 "cells": [
  {
   "cell_type": "code",
   "execution_count": 1,
   "metadata": {},
   "outputs": [
    {
     "data": {
      "text/plain": [
       "'2.1.0'"
      ]
     },
     "execution_count": 1,
     "metadata": {},
     "output_type": "execute_result"
    }
   ],
   "source": [
    "import tensorflow as tf\n",
    "tf.__version__"
   ]
  },
  {
   "cell_type": "code",
   "execution_count": 2,
   "metadata": {},
   "outputs": [
    {
     "data": {
      "text/plain": [
       "[name: \"/device:CPU:0\"\n",
       " device_type: \"CPU\"\n",
       " memory_limit: 268435456\n",
       " locality {\n",
       " }\n",
       " incarnation: 12574489412141566286]"
      ]
     },
     "execution_count": 2,
     "metadata": {},
     "output_type": "execute_result"
    }
   ],
   "source": [
    "from tensorflow.python.client import device_lib\n",
    "device_lib.list_local_devices()"
   ]
  },
  {
   "cell_type": "code",
   "execution_count": 21,
   "metadata": {},
   "outputs": [
    {
     "data": {
      "text/plain": [
       "'Windows-10-10.0.18362-SP0'"
      ]
     },
     "execution_count": 21,
     "metadata": {},
     "output_type": "execute_result"
    }
   ],
   "source": [
    "import platform\n",
    "platform.platform()"
   ]
  },
  {
   "cell_type": "code",
   "execution_count": 26,
   "metadata": {},
   "outputs": [
    {
     "name": "stdout",
     "output_type": "stream",
     "text": [
      "['GSF03031LJH0', 'GSF03732JJH0', 'GSF04122LHK0', 'GSF04524CJI0', 'GSF04623LWJ0']\n",
      "50\n"
     ]
    }
   ],
   "source": [
    "import os\n",
    "\n",
    "pcm_path = \".//ETRI123//9_voice_download_4_Korean_English_by_Korean_part2\"\n",
    "wav_path = \".//ETRI//waves\"\n",
    "\n",
    "if not os.path.exists(wav_path):\n",
    "    os.mkdir(wav_path)\n",
    "\n",
    "print(sorted(os.listdir(pcm_path))[:5])\n",
    "print(len(sorted(os.listdir(pcm_path)))) # # of speakers"
   ]
  },
  {
   "cell_type": "code",
   "execution_count": 27,
   "metadata": {},
   "outputs": [],
   "source": [
    "a = 0\n",
    "for (root, dirs, files) in os.walk(pcm_path):\n",
    "    a += len([filename for filename in files if filename.endswith(\".pcm\")])"
   ]
  },
  {
   "cell_type": "code",
   "execution_count": 28,
   "metadata": {},
   "outputs": [
    {
     "data": {
      "text/plain": [
       "5000"
      ]
     },
     "execution_count": 28,
     "metadata": {},
     "output_type": "execute_result"
    }
   ],
   "source": [
    "# # of utterances\n",
    "a"
   ]
  },
  {
   "cell_type": "code",
   "execution_count": 29,
   "metadata": {},
   "outputs": [
    {
     "name": "stdout",
     "output_type": "stream",
     "text": [
      "['0_0.wav', '0_1.wav', '0_10.wav', '0_11.wav', '0_12.wav']\n",
      "5000\n"
     ]
    }
   ],
   "source": [
    "import wave\n",
    "\n",
    "for i, folder_path in enumerate(sorted(os.listdir(pcm_path))): # sorted!!!\n",
    "    file_list = os.listdir(os.path.join(pcm_path, folder_path)) # label's path\n",
    "    file_list_pcm = [files for files in file_list if files.endswith(\".pcm\")] # *.pcm files\n",
    "\n",
    "    for j, file_path in enumerate(sorted(file_list_pcm)): # sorted!!!\n",
    "        with open(os.path.join(pcm_path, folder_path, file_path), \"rb\") as pcm_file:\n",
    "            pcm_data = pcm_file.read()\n",
    "        # save as {label}_{features}.wav format\n",
    "        with wave.open(os.path.join(wav_path, \"{}_{}.wav\".format(i, j)), 'wb') as wav_file:\n",
    "            wav_file.setparams((1, 2, 16000, 0, 'NONE', 'NONE')) # 16kHz, mono channel\n",
    "            wav_file.writeframes(pcm_data)\n",
    "\n",
    "# print samples\n",
    "print(os.listdir(wav_path)[:5])\n",
    "print(len(os.listdir(wav_path)))"
   ]
  },
  {
   "cell_type": "code",
   "execution_count": 30,
   "metadata": {},
   "outputs": [],
   "source": [
    "import numpy as np\n",
    "\n",
    "num_labels = 50\n",
    "num_features = 100\n",
    "data_length = 3 ** 9\n",
    "\n",
    "train_rate = 0.8\n",
    "num_train_data = int(num_features * train_rate) # 80"
   ]
  },
  {
   "cell_type": "code",
   "execution_count": 37,
   "metadata": {},
   "outputs": [],
   "source": [
    "# save features as *.npz format\n",
    "\n",
    "from scipy.io import wavfile\n",
    "\n",
    "# save dev files\n",
    "for i in range(num_labels):\n",
    "    \n",
    "    data = np.zeros((num_train_data, data_length))\n",
    "    \n",
    "    for j in range(num_train_data):\n",
    "        file_name = \"{}_{}.wav\".format(i, j)\n",
    "        _, samples = wavfile.read(os.path.join(wav_path, file_name))\n",
    "        \n",
    "        start = int(len(samples) - data_length) // 2\n",
    "        end = start + data_length\n",
    "        \n",
    "        data[j] = samples[start:end]\n",
    "    \n",
    "    np.savez_compressed(os.path.join(\"./ETRI/dev\", \"id{}\".format(i)), data)\n",
    "\n",
    "# save test files    \n",
    "for i in range(num_labels):\n",
    "    \n",
    "    data = np.zeros((num_features - num_train_data, data_length))\n",
    "    \n",
    "    for j in range(num_features - num_train_data):\n",
    "        file_name = \"{}_{}.wav\".format(i, j)\n",
    "        _, samples = wavfile.read(os.path.join(wav_path, file_name))\n",
    "        \n",
    "        start = int(len(samples) - data_length) // 2\n",
    "        end = start + data_length\n",
    "        \n",
    "        data[j] = samples[start:end]\n",
    "    \n",
    "    np.savez_compressed(os.path.join(\"./ETRI/test\", \"id{}\".format(i)), data)"
   ]
  },
  {
   "cell_type": "code",
   "execution_count": 38,
   "metadata": {},
   "outputs": [
    {
     "data": {
      "text/plain": [
       "(20, 19683)"
      ]
     },
     "execution_count": 38,
     "metadata": {},
     "output_type": "execute_result"
    }
   ],
   "source": [
    "data.shape"
   ]
  }
 ],
 "metadata": {
  "kernelspec": {
   "display_name": "Python 3",
   "language": "python",
   "name": "python3"
  },
  "language_info": {
   "codemirror_mode": {
    "name": "ipython",
    "version": 3
   },
   "file_extension": ".py",
   "mimetype": "text/x-python",
   "name": "python",
   "nbconvert_exporter": "python",
   "pygments_lexer": "ipython3",
   "version": "3.7.3"
  }
 },
 "nbformat": 4,
 "nbformat_minor": 2
}
