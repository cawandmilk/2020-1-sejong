{
 "cells": [
  {
   "cell_type": "code",
   "execution_count": 2,
   "metadata": {},
   "outputs": [
    {
     "data": {
      "text/plain": [
       "'2.1.0'"
      ]
     },
     "execution_count": 2,
     "metadata": {},
     "output_type": "execute_result"
    }
   ],
   "source": [
    "import tensorflow as tf\n",
    "tf.__version__"
   ]
  },
  {
   "cell_type": "code",
   "execution_count": 3,
   "metadata": {},
   "outputs": [
    {
     "data": {
      "text/plain": [
       "[name: \"/device:CPU:0\"\n",
       " device_type: \"CPU\"\n",
       " memory_limit: 268435456\n",
       " locality {\n",
       " }\n",
       " incarnation: 2532688127768558292]"
      ]
     },
     "execution_count": 3,
     "metadata": {},
     "output_type": "execute_result"
    }
   ],
   "source": [
    "from tensorflow.python.client import device_lib\n",
    "device_lib.list_local_devices()"
   ]
  },
  {
   "cell_type": "code",
   "execution_count": 4,
   "metadata": {},
   "outputs": [
    {
     "data": {
      "text/plain": [
       "'Windows-10-10.0.18362-SP0'"
      ]
     },
     "execution_count": 4,
     "metadata": {},
     "output_type": "execute_result"
    }
   ],
   "source": [
    "import platform\n",
    "platform.platform()"
   ]
  },
  {
   "cell_type": "code",
   "execution_count": 1,
   "metadata": {},
   "outputs": [
    {
     "name": "stdout",
     "output_type": "stream",
     "text": [
      "['id10001', 'id10002', 'id10003', 'id10004', 'id10005']\n",
      "1211\n"
     ]
    }
   ],
   "source": [
    "import os\n",
    "\n",
    "dataset_path = \"./voxceleb/dev_wav\"\n",
    "\n",
    "print(sorted(os.listdir(dataset_path))[:5])\n",
    "print(len(sorted(os.listdir(dataset_path)))) # # of speakers"
   ]
  },
  {
   "cell_type": "code",
   "execution_count": 17,
   "metadata": {},
   "outputs": [],
   "source": [
    "a = 0\n",
    "for (root, dirs, files) in os.walk(dataset_path):\n",
    "    a += len(files)"
   ]
  },
  {
   "cell_type": "code",
   "execution_count": 18,
   "metadata": {},
   "outputs": [
    {
     "data": {
      "text/plain": [
       "148642"
      ]
     },
     "execution_count": 18,
     "metadata": {},
     "output_type": "execute_result"
    }
   ],
   "source": [
    "# # of utterances\n",
    "a"
   ]
  },
  {
   "cell_type": "code",
   "execution_count": 20,
   "metadata": {},
   "outputs": [],
   "source": [
    "from scipy.io import wavfile\n",
    "\n",
    "b, c = 0, 0\n",
    "for (root, dirs, files) in os.walk(dataset_path):\n",
    "    for filename in files:\n",
    "        _, samples = wavfile.read(os.path.join(root, filename))\n",
    "        \n",
    "        b = max(b, len(samples))\n",
    "        c = min(c, len(samples))"
   ]
  },
  {
   "cell_type": "code",
   "execution_count": 21,
   "metadata": {},
   "outputs": [
    {
     "data": {
      "text/plain": [
       "(2318721, 0)"
      ]
     },
     "execution_count": 21,
     "metadata": {},
     "output_type": "execute_result"
    }
   ],
   "source": [
    "# maximum, minimum length of files\n",
    "b, c"
   ]
  },
  {
   "cell_type": "code",
   "execution_count": 2,
   "metadata": {},
   "outputs": [],
   "source": [
    "data_length = 3 ** 9"
   ]
  },
  {
   "cell_type": "code",
   "execution_count": 4,
   "metadata": {},
   "outputs": [],
   "source": [
    "from scipy.io import wavfile\n",
    "\n",
    "save_npy_path = \"./npzs\"\n",
    "if not os.path.exists(save_npy_path):\n",
    "    os.mkdir(save_npy_path)\n",
    "\n",
    "for root_dir in os.listdir(dataset_path): # id10001 ~ id11211 (1211 speakers)   \n",
    "    \n",
    "    utts = 0 # num of wav files for each speakers\n",
    "    for (root, dirs, files) in os.walk(os.path.join(dataset_path, root_dir)):\n",
    "        utts += len(files)\n",
    "    \n",
    "    i = 0\n",
    "    data = np.zeros((utts, data_length))\n",
    "\n",
    "    for (root, dirs, files) in os.walk(os.path.join(dataset_path, root_dir)):\n",
    "        for filename in files:\n",
    "            \n",
    "            _, samples = wavfile.read(os.path.join(root, filename))\n",
    "            \n",
    "            try: \n",
    "                if len(samples) < data_length:\n",
    "                    raise Exception(\"length of samples < data_length = 3 ** 9\")\n",
    "            except Exception as e:\n",
    "                print(e)\n",
    "            \n",
    "            start = int(len(samples) - data_length) // 2\n",
    "            end = start + data_length\n",
    "            \n",
    "            data[i] = samples[start:end]            \n",
    "            i = i + 1\n",
    "    \n",
    "    np.savez_compressed(os.path.join(save_npy_path, \"{}.npz\".format(root_dir)), data)"
   ]
  },
  {
   "cell_type": "code",
   "execution_count": 51,
   "metadata": {},
   "outputs": [
    {
     "data": {
      "text/plain": [
       "(61, 19683)"
      ]
     },
     "execution_count": 51,
     "metadata": {},
     "output_type": "execute_result"
    }
   ],
   "source": [
    "data.shape"
   ]
  },
  {
   "cell_type": "code",
   "execution_count": 5,
   "metadata": {},
   "outputs": [],
   "source": [
    "dataset_path = \"./voxceleb123/test_wav\"\n",
    "data_length = 3 ** 9"
   ]
  },
  {
   "cell_type": "code",
   "execution_count": 13,
   "metadata": {},
   "outputs": [],
   "source": [
    "from scipy.io import wavfile\n",
    "import os\n",
    "\n",
    "save_npy_path = \"./Voxceleb/test\"\n",
    "if not os.path.exists(save_npy_path):\n",
    "    os.mkdir(save_npy_path)\n",
    "\n",
    "for root_dir in os.listdir(dataset_path): # id10001 ~ id11211 (1211 speakers)\n",
    "\n",
    "    for (root, dirs, files) in os.walk(os.path.join(dataset_path, root_dir)):\n",
    "        \n",
    "        if len(files) == 0: continue\n",
    "        \n",
    "        utts = len(files)            \n",
    "        data = np.zeros((utts, data_length))\n",
    "        \n",
    "        for i, filename in enumerate(files):\n",
    "            \n",
    "            _, samples = wavfile.read(os.path.join(root, filename))\n",
    "            \n",
    "            try: \n",
    "                if len(samples) < data_length:\n",
    "                    raise Exception(\"length of samples < data_length = 3 ** 9\")\n",
    "            except Exception as e:\n",
    "                print(e)\n",
    "            \n",
    "            start = int(len(samples) - data_length) // 2\n",
    "            end = start + data_length\n",
    "            \n",
    "            data[i] = samples[start:end]            \n",
    "\n",
    "        # to fit the requirements of validation format\n",
    "        # http://www.robots.ox.ac.uk/~vgg/data/voxceleb/vox1.html\n",
    "        # http://www.robots.ox.ac.uk/~vgg/data/voxceleb/meta/veri_test.txt\n",
    "        np.savez_compressed(os.path.join(save_npy_path,\n",
    "                                         \"{}_{}\".format(root_dir, root.split(os.path.sep)[-1])), data)"
   ]
  }
 ],
 "metadata": {
  "kernelspec": {
   "display_name": "Python 3",
   "language": "python",
   "name": "python3"
  },
  "language_info": {
   "codemirror_mode": {
    "name": "ipython",
    "version": 3
   },
   "file_extension": ".py",
   "mimetype": "text/x-python",
   "name": "python",
   "nbconvert_exporter": "python",
   "pygments_lexer": "ipython3",
   "version": "3.7.3"
  }
 },
 "nbformat": 4,
 "nbformat_minor": 2
}
