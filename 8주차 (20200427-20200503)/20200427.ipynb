{
 "cells": [
  {
   "cell_type": "code",
   "execution_count": 2,
   "metadata": {},
   "outputs": [
    {
     "data": {
      "text/plain": [
       "'2.1.0'"
      ]
     },
     "execution_count": 2,
     "metadata": {},
     "output_type": "execute_result"
    }
   ],
   "source": [
    "import tensorflow as tf\n",
    "tf.__version__"
   ]
  },
  {
   "cell_type": "code",
   "execution_count": 3,
   "metadata": {},
   "outputs": [
    {
     "data": {
      "text/plain": [
       "[name: \"/device:CPU:0\"\n",
       " device_type: \"CPU\"\n",
       " memory_limit: 268435456\n",
       " locality {\n",
       " }\n",
       " incarnation: 2532688127768558292]"
      ]
     },
     "execution_count": 3,
     "metadata": {},
     "output_type": "execute_result"
    }
   ],
   "source": [
    "from tensorflow.python.client import device_lib\n",
    "device_lib.list_local_devices()"
   ]
  },
  {
   "cell_type": "code",
   "execution_count": 4,
   "metadata": {},
   "outputs": [
    {
     "data": {
      "text/plain": [
       "'Windows-10-10.0.18362-SP0'"
      ]
     },
     "execution_count": 4,
     "metadata": {},
     "output_type": "execute_result"
    }
   ],
   "source": [
    "import platform\n",
    "platform.platform()"
   ]
  },
  {
   "cell_type": "code",
   "execution_count": 1,
   "metadata": {},
   "outputs": [
    {
     "name": "stdout",
     "output_type": "stream",
     "text": [
      "['id10001', 'id10002', 'id10003', 'id10004', 'id10005']\n",
      "1211\n"
     ]
    }
   ],
   "source": [
    "import os\n",
    "\n",
    "dev_wav_path = \"C:\\\\Users\\\\오명교\\\\Desktop\\\\dev\\\\wav\"\n",
    "test_wav_path = \"C:\\\\Users\\\\오명교\\\\Desktop\\\\test\\\\wav\"\n",
    "\n",
    "print(sorted(os.listdir(dev_wav_path))[:5])\n",
    "print(len(sorted(os.listdir(dev_wav_path)))) # # of speakers"
   ]
  },
  {
   "cell_type": "code",
   "execution_count": 2,
   "metadata": {},
   "outputs": [
    {
     "name": "stdout",
     "output_type": "stream",
     "text": [
      "[ dev]  1211 speakers,  148642 utterances\n",
      "[test]    40 speakers,    4874 utterances\n"
     ]
    }
   ],
   "source": [
    "num_dev_labels = os.listdir(dev_wav_path)\n",
    "num_dev_utts = 0\n",
    "for dir_path, dir_names, filenames in os.walk(dev_wav_path):\n",
    "    num_dev_utts += len(filenames)\n",
    "\n",
    "num_test_labels = os.listdir(test_wav_path)\n",
    "num_test_utts = 0\n",
    "for dir_path, dir_names, filenames in os.walk(test_wav_path):\n",
    "    num_test_utts += len(filenames)\n",
    "\n",
    "print(\"[ dev] {:>5} speakers, {:>7} utterances\".format(len(num_dev_labels), num_dev_utts))\n",
    "print(\"[test] {:>5} speakers, {:>7} utterances\".format(len(num_test_labels), num_test_utts))"
   ]
  },
  {
   "cell_type": "code",
   "execution_count": 3,
   "metadata": {},
   "outputs": [
    {
     "name": "stdout",
     "output_type": "stream",
     "text": [
      "[ dev] path: C:\\Users\\오명교\\Desktop\\dev\\npz\n",
      "[test] path: C:\\Users\\오명교\\Desktop\\test\\npz\n"
     ]
    }
   ],
   "source": [
    "import os.path\n",
    "\n",
    "dev_npz_path = os.path.join(os.path.dirname(dev_wav_path), \"npz\")\n",
    "test_npz_path = os.path.join(os.path.dirname(test_wav_path), \"npz\")\n",
    "\n",
    "if not os.path.exists(dev_npz_path): os.mkdir(dev_npz_path)\n",
    "if not os.path.exists(test_npz_path): os.mkdir(test_npz_path)\n",
    "\n",
    "print(\"[ dev] path: {}\".format(dev_npz_path))\n",
    "print(\"[test] path: {}\".format(test_npz_path))"
   ]
  },
  {
   "cell_type": "code",
   "execution_count": 4,
   "metadata": {},
   "outputs": [],
   "source": [
    "from scipy.io import wavfile\n",
    "import numpy as np\n",
    "\n",
    "def wav_to_npz(wav_path, npz_path, data_length = 3 ** 9):\n",
    "    # change wav folder path to npz folder path\n",
    "    change_path = lambda x: x.replace(os.path.sep + 'wav' + os.path.sep,\n",
    "                                      os.path.sep + 'npz' + os.path.sep)\n",
    "    \n",
    "    for dir_path, dir_names, filenames in os.walk(wav_path):\n",
    "        # e.g. dir_path == /dev/wav/id10001 → make 1211 (# of speakers) folders\n",
    "        if dir_path is wav_path:\n",
    "            for dir_name in dir_names: # e.g. id10001, id10002, ...\n",
    "                path = change_path(os.path.join(dir_path, dir_name))\n",
    "                if not os.path.exists(path): os.mkdir(path)\n",
    "                \n",
    "        # e.g. /dev/wav/id10001\n",
    "        if not filenames: continue\n",
    "        \n",
    "        # e.g. /dev/wav/id10001/1zcIwhmdeo4 → /dev/npz/id10001/1zcIwhmdeo4\n",
    "        path = change_path(dir_path)\n",
    "        data = []\n",
    "        \n",
    "        for filename in filenames:\n",
    "            _, samples = wavfile.read(os.path.join(dir_path, filename))\n",
    "            \n",
    "            # if wave file samples < data length == 3^9, \n",
    "            # then raise exception\n",
    "            try: \n",
    "                if len(samples) < data_length:\n",
    "                    raise Exception(\"length of samples < data_length = 3 ** 9\")\n",
    "            except Exception as e:\n",
    "                print(e)\n",
    "\n",
    "            start = int(len(samples) - data_length) // 2\n",
    "            end = start + data_length\n",
    "            \n",
    "            data.append(samples[start:end])\n",
    "            \n",
    "        # e.g. save every files in /dev/wav/id10001/1zcIwhmdeo4 to /dev/npz/id10001/1zcIwhmdeo4.npz\n",
    "        np.savez_compressed(path, names = filenames, data = data)"
   ]
  },
  {
   "cell_type": "code",
   "execution_count": 5,
   "metadata": {},
   "outputs": [],
   "source": [
    "data_length = 3 ** 9"
   ]
  },
  {
   "cell_type": "code",
   "execution_count": 6,
   "metadata": {},
   "outputs": [],
   "source": [
    "wav_to_npz(dev_wav_path, dev_npz_path)"
   ]
  },
  {
   "cell_type": "code",
   "execution_count": 7,
   "metadata": {},
   "outputs": [],
   "source": [
    "wav_to_npz(test_wav_path, test_npz_path)"
   ]
  },
  {
   "cell_type": "code",
   "execution_count": 10,
   "metadata": {},
   "outputs": [
    {
     "name": "stdout",
     "output_type": "stream",
     "text": [
      "[ dev]  148642 utterances\n",
      "[test]    4874 utterances\n"
     ]
    }
   ],
   "source": [
    "def utts(path):\n",
    "    num_utts = 0\n",
    "    for dir_path, dir_names, filenames in os.walk(path):\n",
    "        for filename in filenames:\n",
    "            num_utts += len(np.load(os.path.join(dir_path, filename))['names'])\n",
    "    return num_utts\n",
    "\n",
    "print(\"[ dev] {:>7} utterances\".format(utts(dev_npz_path)))\n",
    "print(\"[test] {:>7} utterances\".format(utts(test_npz_path)))"
   ]
  }
 ],
 "metadata": {
  "kernelspec": {
   "display_name": "Python 3",
   "language": "python",
   "name": "python3"
  },
  "language_info": {
   "codemirror_mode": {
    "name": "ipython",
    "version": 3
   },
   "file_extension": ".py",
   "mimetype": "text/x-python",
   "name": "python",
   "nbconvert_exporter": "python",
   "pygments_lexer": "ipython3",
   "version": "3.7.3"
  }
 },
 "nbformat": 4,
 "nbformat_minor": 2
}
